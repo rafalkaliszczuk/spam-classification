{
 "cells": [
  {
   "cell_type": "code",
   "execution_count": 1,
   "metadata": {},
   "outputs": [],
   "source": [
    "# dodac opisy funkcji jako docstringi "
   ]
  },
  {
   "cell_type": "code",
   "execution_count": 54,
   "metadata": {},
   "outputs": [
    {
     "name": "stderr",
     "output_type": "stream",
     "text": [
      "[nltk_data] Downloading package averaged_perceptron_tagger to\n",
      "[nltk_data]     C:\\Users\\rkali\\AppData\\Roaming\\nltk_data...\n",
      "[nltk_data]   Package averaged_perceptron_tagger is already up-to-\n",
      "[nltk_data]       date!\n",
      "[nltk_data] Downloading package wordnet to\n",
      "[nltk_data]     C:\\Users\\rkali\\AppData\\Roaming\\nltk_data...\n",
      "[nltk_data]   Package wordnet is already up-to-date!\n",
      "[nltk_data] Downloading package stopwords to\n",
      "[nltk_data]     C:\\Users\\rkali\\AppData\\Roaming\\nltk_data...\n",
      "[nltk_data]   Package stopwords is already up-to-date!\n"
     ]
    }
   ],
   "source": [
    "# Libraries import\n",
    "\n",
    "import numpy as np\n",
    "import pandas as pd\n",
    "import matplotlib.pyplot as plt\n",
    "import seaborn as sns\n",
    "import re\n",
    "import string\n",
    "import zipfile\n",
    "import urllib\n",
    "\n",
    "from sklearn.feature_extraction.text import ENGLISH_STOP_WORDS\n",
    "from sklearn.model_selection import train_test_split\n",
    "from sklearn.feature_extraction.text import TfidfVectorizer\n",
    "from sklearn.ensemble import RandomForestClassifier\n",
    "from sklearn.tree import DecisionTreeClassifier\n",
    "from sklearn.naive_bayes import MultinomialNB\n",
    "from sklearn.feature_extraction.text import CountVectorizer\n",
    "from sklearn.model_selection import train_test_split\n",
    "from sklearn.metrics import accuracy_score, precision_score, recall_score, f1_score, roc_curve, auc\n",
    "from keras_preprocessing.text import Tokenizer\n",
    "from matplotlib.pyplot import figure\n",
    "from numpy import quantile\n",
    "import scipy.stats as stats\n",
    "\n",
    "import nltk\n",
    "from nltk.corpus import wordnet\n",
    "from nltk.stem import WordNetLemmatizer\n",
    "from nltk.tokenize import word_tokenize\n",
    "import string\n",
    "import re\n",
    "\n",
    "nltk.download('averaged_perceptron_tagger')\n",
    "nltk.download('wordnet')\n",
    "nltk.download('stopwords')\n",
    "\n",
    "ENGLISH_STOP_WORDS = set(nltk.corpus.stopwords.words('english'))"
   ]
  },
  {
   "cell_type": "code",
   "execution_count": 6,
   "metadata": {},
   "outputs": [],
   "source": [
    "# Download the dataset and load it into dataframe\n",
    "url = 'https://github.com/MWiechmann/enron_spam_data/blob/master/enron_spam_data.zip?raw=true'\n",
    "\n",
    "urllib.request.urlretrieve(url, 'data.zip')\n",
    "\n",
    "with zipfile.ZipFile('data.zip', 'r') as zip_ref:\n",
    "     zip_ref.extractall()\n",
    "\n",
    "df = pd.read_csv('enron_spam_data.csv')"
   ]
  },
  {
   "cell_type": "code",
   "execution_count": 7,
   "metadata": {},
   "outputs": [
    {
     "name": "stdout",
     "output_type": "stream",
     "text": [
      "<class 'pandas.core.frame.DataFrame'>\n",
      "RangeIndex: 33716 entries, 0 to 33715\n",
      "Data columns (total 5 columns):\n",
      " #   Column      Non-Null Count  Dtype \n",
      "---  ------      --------------  ----- \n",
      " 0   Message ID  33716 non-null  int64 \n",
      " 1   Subject     33427 non-null  object\n",
      " 2   Message     33345 non-null  object\n",
      " 3   Spam/Ham    33716 non-null  object\n",
      " 4   Date        33716 non-null  object\n",
      "dtypes: int64(1), object(4)\n",
      "memory usage: 1.3+ MB\n"
     ]
    }
   ],
   "source": [
    "df.info()"
   ]
  },
  {
   "cell_type": "code",
   "execution_count": 8,
   "metadata": {},
   "outputs": [
    {
     "data": {
      "image/png": "[encoded data removed]",
      "text/plain": [
       "<Figure size 432x288 with 1 Axes>"
      ]
     },
     "metadata": {
      "needs_background": "light"
     },
     "output_type": "display_data"
    }
   ],
   "source": [
    "# Count of spam vs ham messages \n",
    "\n",
    "counts = df['Spam/Ham'].value_counts()\n",
    "\n",
    "colors = ['red' if i == 'spam' else 'green' for i in counts.index]\n",
    "\n",
    "counts.plot(kind = 'bar', color = colors, title = 'Count of spam vs ham messages')\n",
    "plt.xlabel('Category')\n",
    "plt.ylabel('Count')\n",
    "\n",
    "for i, count in enumerate(counts):\n",
    "    plt.text(i, count, str(count), color = 'black', fontsize = 12, ha = 'center')\n",
    "\n",
    "plt.show()"
   ]
  },
  {
   "cell_type": "code",
   "execution_count": 9,
   "metadata": {},
   "outputs": [
    {
     "name": "stdout",
     "output_type": "stream",
     "text": [
      "Message ID      0\n",
      "Subject       289\n",
      "Message       371\n",
      "Spam/Ham        0\n",
      "Date            0\n",
      "dtype: int64\n",
      "Message ID    0\n",
      "Subject       0\n",
      "Message       0\n",
      "Spam/Ham      0\n",
      "Date          0\n",
      "dtype: int64\n",
      "Message ID    33107\n",
      "Subject       33107\n",
      "Message       33107\n",
      "Spam/Ham      33107\n",
      "Date          33107\n",
      "dtype: int64\n"
     ]
    }
   ],
   "source": [
    "# Handling missing values\n",
    "print(df.isna().sum())\n",
    "\n",
    "df.dropna(inplace = True)\n",
    "\n",
    "print(df.isna().sum())\n",
    "\n",
    "print(df.count())"
   ]
  },
  {
   "cell_type": "code",
   "execution_count": 21,
   "metadata": {},
   "outputs": [
    {
     "name": "stdout",
     "output_type": "stream",
     "text": [
      "Exemplary title before preprocessing: vastar resource inc\n",
      "Exemplary e-mail body before preproocessing: hello vince hear sick hope thank opportunity visit enron speak guy good team wonder come decision regard employment look forward hear regard martin\n"
     ]
    }
   ],
   "source": [
    "raw_df = df\n",
    "\n",
    "raw_title = raw_df['Subject'][1]\n",
    "raw_body = raw_df['Message'][7480]\n",
    "\n",
    "print(f'Exemplary title before preprocessing: {raw_title}')\n",
    "print(f'Exemplary e-mail body before preproocessing: {raw_body}')\n"
   ]
  },
  {
   "cell_type": "code",
   "execution_count": 11,
   "metadata": {},
   "outputs": [
    {
     "data": {
      "text/html": [
       "<div>\n",
       "<style scoped>\n",
       "    .dataframe tbody tr th:only-of-type {\n",
       "        vertical-align: middle;\n",
       "    }\n",
       "\n",
       "    .dataframe tbody tr th {\n",
       "        vertical-align: top;\n",
       "    }\n",
       "\n",
       "    .dataframe thead th {\n",
       "        text-align: right;\n",
       "    }\n",
       "</style>\n",
       "<table border=\"1\" class=\"dataframe\">\n",
       "  <thead>\n",
       "    <tr style=\"text-align: right;\">\n",
       "      <th></th>\n",
       "      <th>Spam/Ham</th>\n",
       "      <th>Message</th>\n",
       "      <th>Count</th>\n",
       "    </tr>\n",
       "  </thead>\n",
       "  <tbody>\n",
       "    <tr>\n",
       "      <th>16</th>\n",
       "      <td>ham</td>\n",
       "      <td>' for the record ' questions for the enside ne...</td>\n",
       "      <td>2</td>\n",
       "    </tr>\n",
       "    <tr>\n",
       "      <th>60</th>\n",
       "      <td>ham</td>\n",
       "      <td>( see attached file : hplnl 201 . xls )\\n- hpl...</td>\n",
       "      <td>2</td>\n",
       "    </tr>\n",
       "    <tr>\n",
       "      <th>106</th>\n",
       "      <td>ham</td>\n",
       "      <td>( see attached file : hplno 310 . xls )\\n- hpl...</td>\n",
       "      <td>2</td>\n",
       "    </tr>\n",
       "    <tr>\n",
       "      <th>107</th>\n",
       "      <td>ham</td>\n",
       "      <td>( see attached file : hplno 313 . xls )\\n- hpl...</td>\n",
       "      <td>2</td>\n",
       "    </tr>\n",
       "    <tr>\n",
       "      <th>108</th>\n",
       "      <td>ham</td>\n",
       "      <td>( see attached file : hplno 314 . xls )\\n- hpl...</td>\n",
       "      <td>2</td>\n",
       "    </tr>\n",
       "    <tr>\n",
       "      <th>...</th>\n",
       "      <td>...</td>\n",
       "      <td>...</td>\n",
       "      <td>...</td>\n",
       "    </tr>\n",
       "    <tr>\n",
       "      <th>29554</th>\n",
       "      <td>spam</td>\n",
       "      <td>zum\\n( fehlgeschlagen ) ? =\\ndies ist eine aut...</td>\n",
       "      <td>2</td>\n",
       "    </tr>\n",
       "    <tr>\n",
       "      <th>29565</th>\n",
       "      <td>spam</td>\n",
       "      <td>~ welcome to heartwarmers ~\\nhttp : / / www . ...</td>\n",
       "      <td>2</td>\n",
       "    </tr>\n",
       "    <tr>\n",
       "      <th>29568</th>\n",
       "      <td>spam</td>\n",
       "      <td> best cle course i  ve ever attended ! \\nat...</td>\n",
       "      <td>2</td>\n",
       "    </tr>\n",
       "    <tr>\n",
       "      <th>29576</th>\n",
       "      <td>spam</td>\n",
       "      <td>µ?? § ? ?? · ?? · ? § ? ? ?? ? ? ? ?? · ???? ¤...</td>\n",
       "      <td>2</td>\n",
       "    </tr>\n",
       "    <tr>\n",
       "      <th>29581</th>\n",
       "      <td>spam</td>\n",
       "      <td>ðï \u0011 à ¡ ±</td>\n",
       "      <td>2</td>\n",
       "    </tr>\n",
       "  </tbody>\n",
       "</table>\n",
       "<p>3182 rows × 3 columns</p>\n",
       "</div>"
      ],
      "text/plain": [
       "      Spam/Ham                                            Message  Count\n",
       "16         ham  ' for the record ' questions for the enside ne...      2\n",
       "60         ham  ( see attached file : hplnl 201 . xls )\\n- hpl...      2\n",
       "106        ham  ( see attached file : hplno 310 . xls )\\n- hpl...      2\n",
       "107        ham  ( see attached file : hplno 313 . xls )\\n- hpl...      2\n",
       "108        ham  ( see attached file : hplno 314 . xls )\\n- hpl...      2\n",
       "...        ...                                                ...    ...\n",
       "29554     spam  zum\\n( fehlgeschlagen ) ? =\\ndies ist eine aut...      2\n",
       "29565     spam  ~ welcome to heartwarmers ~\\nhttp : / / www . ...      2\n",
       "29568     spam   best cle course i  ve ever attended ! \\nat...      2\n",
       "29576     spam  µ?? § ? ?? · ?? · ? § ? ? ?? ? ? ? ?? · ???? ¤...      2\n",
       "29581     spam                                         ðï \u0011 à ¡ ±      2\n",
       "\n",
       "[3182 rows x 3 columns]"
      ]
     },
     "execution_count": 11,
     "metadata": {},
     "output_type": "execute_result"
    }
   ],
   "source": [
    "# Checking on duplicated values\n",
    "\n",
    "df_grouped = df.groupby(['Spam/Ham', 'Message']).size().reset_index(name = 'Count')\n",
    "df_grouped[df_grouped['Count'] > 1]"
   ]
  },
  {
   "cell_type": "code",
   "execution_count": 12,
   "metadata": {},
   "outputs": [
    {
     "name": "stdout",
     "output_type": "stream",
     "text": [
      "<class 'pandas.core.frame.DataFrame'>\n",
      "Int64Index: 29582 entries, 1 to 33714\n",
      "Data columns (total 5 columns):\n",
      " #   Column      Non-Null Count  Dtype \n",
      "---  ------      --------------  ----- \n",
      " 0   Message ID  29582 non-null  int64 \n",
      " 1   Subject     29582 non-null  object\n",
      " 2   Message     29582 non-null  object\n",
      " 3   Spam/Ham    29582 non-null  object\n",
      " 4   Date        29582 non-null  object\n",
      "dtypes: int64(1), object(4)\n",
      "memory usage: 1.4+ MB\n"
     ]
    }
   ],
   "source": [
    "# Removing duplicated values and empty e-mails \n",
    "\n",
    "df = df.drop_duplicates(subset = ['Message'])\n",
    "df = df.loc[df['Message'] != '']\n",
    "\n",
    "df.info()"
   ]
  },
  {
   "cell_type": "code",
   "execution_count": 13,
   "metadata": {},
   "outputs": [],
   "source": [
    "### Text data pre-preocessing\n",
    "\n",
    "def replace_hyperlink(text):\n",
    "    pattern = r\"http\\S+\"\n",
    "    return  re.sub(pattern, \"http\", text)\n",
    "\n",
    "def replace_email_address(text):\n",
    "    pattern = r'[a-zA-Z0-9._%+-]+@[a-zA-Z0-9.-]+\\.[a-zA-Z]{2,}'\n",
    "    return re.sub(pattern, \"email_address\", text)\n",
    "\n",
    "def to_lower(text):\n",
    "    result = text.lower()\n",
    "    return result\n",
    "\n",
    "def remove_punctuation(text):\n",
    "    result = text.translate(str.maketrans(dict.fromkeys(string.punctuation)))\n",
    "    return result\n",
    "\n",
    "def remove_whitespace(text):\n",
    "    result = text.strip()\n",
    "    return result\n",
    "\n",
    "def remove_duplicated_spaces(text):\n",
    "    result = \" \".join(text.split())\n",
    "    return result\n",
    "\n",
    "def replace_newline(text):\n",
    "    return text.replace('\\n',' ')\n",
    "\n",
    "def remove_stop_words(text):\n",
    "    words = text.split()\n",
    "    filtered_words = [word for word in words if word.lower() not in ENGLISH_STOP_WORDS]\n",
    "    return \" \".join(filtered_words)\n",
    "\n",
    "def remove_numbers(text):\n",
    "    tokens = word_tokenize(text)\n",
    "    tokens_without_numbers = [token for token in tokens if not token.isdigit()]\n",
    "    return ' '.join(tokens_without_numbers)\n",
    "\n",
    "def remove_special_characters(text):\n",
    "    cleaned_text = re.sub(r'[^a-zA-Z0-9\\s]', '', text)\n",
    "    return cleaned_text\n",
    "\n",
    "def get_wordnet_pos(treebank_tag):\n",
    "    \"\"\"Zamienia tagi części mowy z tagsetu Penn Treebank na tagset WordNet\"\"\"\n",
    "    if treebank_tag.startswith('J'):\n",
    "        return wordnet.ADJ\n",
    "    elif treebank_tag.startswith('V'):\n",
    "        return wordnet.VERB\n",
    "    elif treebank_tag.startswith('N'):\n",
    "        return wordnet.NOUN\n",
    "    elif treebank_tag.startswith('R'):\n",
    "        return wordnet.ADV\n",
    "    else:\n",
    "        return None\n",
    "\n",
    "lemmatizer = WordNetLemmatizer()\n",
    "def lemmatize_sentence(sentence):\n",
    "    tagged_sentence = nltk.pos_tag(nltk.word_tokenize(sentence))\n",
    "    lemmatized_sentence = [lemmatizer.lemmatize(word, pos=get_wordnet_pos(tag)) if get_wordnet_pos(tag) else word for word, tag in tagged_sentence]\n",
    "    return \" \".join(lemmatized_sentence)\n",
    "\n",
    "def data_cleaning_pipeline(sentence):\n",
    "    cleaning_utils = [to_lower,\n",
    "                      replace_hyperlink,\n",
    "                      replace_email_address,\n",
    "                      replace_newline,\n",
    "                      remove_punctuation,\n",
    "                      remove_special_characters,\n",
    "                      remove_stop_words,\n",
    "                      remove_numbers,\n",
    "                      remove_duplicated_spaces,\n",
    "                      remove_whitespace,\n",
    "                      lemmatize_sentence]\n",
    "    for i in cleaning_utils:\n",
    "        sentence = i(sentence)\n",
    "    return sentence\n",
    "\n",
    "df['Raw_message'] = df['Message']\n",
    "df['Message'] = [data_cleaning_pipeline(i) for i in df['Message'].astype(str)]\n",
    "df['Subject'] = [data_cleaning_pipeline(i) for i in df['Subject'].astype(str)]\n",
    "\n",
    "df.dropna(inplace = True)\n",
    "\n",
    "#df.to_csv('data_preprocessed.csv', index = False)\n",
    "#df.to_excel('data_preprocessed.xlsx', index = False)"
   ]
  },
  {
   "cell_type": "code",
   "execution_count": 14,
   "metadata": {},
   "outputs": [
    {
     "name": "stdout",
     "output_type": "stream",
     "text": [
      "Message ID     0\n",
      "Subject        0\n",
      "Message        0\n",
      "Spam/Ham       0\n",
      "Date           0\n",
      "Raw_message    0\n",
      "dtype: int64\n",
      "Message ID     0\n",
      "Subject        0\n",
      "Message        0\n",
      "Spam/Ham       0\n",
      "Date           0\n",
      "Raw_message    0\n",
      "dtype: int64\n"
     ]
    }
   ],
   "source": [
    "print(df.isna().sum())\n",
    "df.dropna(inplace = True)\n",
    "print(df.isna().sum())"
   ]
  },
  {
   "cell_type": "code",
   "execution_count": 22,
   "metadata": {},
   "outputs": [
    {
     "name": "stdout",
     "output_type": "stream",
     "text": [
      "Exemplary title after preprocessing: vastar resource inc\n",
      "Exemplary e-mail body after preproocessing: hello vince hear sick hope thank opportunity visit enron speak guy good team wonder come decision regard employment look forward hear regard martin\n"
     ]
    }
   ],
   "source": [
    "df_title = df['Subject'][1]\n",
    "df_body = df['Message'][7480]\n",
    "\n",
    "print(f'Exemplary title after preprocessing: {df_title}')\n",
    "print(f'Exemplary e-mail body after preproocessing: {df_body}')"
   ]
  },
  {
   "cell_type": "code",
   "execution_count": 23,
   "metadata": {},
   "outputs": [
    {
     "name": "stdout",
     "output_type": "stream",
     "text": [
      "Spam record: introduce doctor formulate hgh human growth hormone also call hgh refer medical science master hormone plentiful young near age twenty one body begin produce less time forty nearly everyone deficient hgh eighty production normally diminish least advantages hgh increase muscle strength loss body fat increase bone density lower blood pressure quicken wound heal reduces cellulite improve vision wrinkle disappearance increase skin thickness texture increase energy level improve sleep emotional stability improve memory mental alertness increase sexual potency resistance common illness strengthen heart muscle control cholesterol control mood swing new hair growth color restore read website unsubscribe\n",
      "Ham record: gary production high island large block commence saturday p gross carlos expect gross tomorrow vastar own gross production george x forward george weissman hou ect daren j farmer carlos j rodriguez hou ect ect cc george weissman hou ect ect melissa graf hou ect ect subject vastar resource inc carlos please call linda get everything set go estimate come tomorrow increase follow day base conversation bill fischer bmar forward daren j farmer hou ect enron north america corp george weissman daren j farmer hou ect ect cc gary bryan hou ect ect melissa graf hou ect ect subject vastar resource inc darren attach appear nomination vastar resource inc high island large block previously erroneously refer well vastar expect well commence production sometime tomorrow tell linda harris get telephone number gas control provide notification turn tomorrow linda number record voice fax would please see someone contact linda advise submit future nomination via e mail fax voice thanks george x forward george weissman hou ect linda harris george weissman hou ect ect cc subject hi effective mscf min ftp time hour hour hour hour hour hour hour hour hour hour hour hour hour hour hour hour hour\n"
     ]
    }
   ],
   "source": [
    "# Example of spam and ham e-mails\n",
    "\n",
    "spam_record = df[df['Spam/Ham'] == 'spam'].iloc[0].Message\n",
    "print(f\"Spam record: {spam_record}\")\n",
    "\n",
    "ham_record = df[df['Spam/Ham'] == 'ham'].iloc[0].Message\n",
    "print(f\"Ham record: {ham_record}\")"
   ]
  },
  {
   "cell_type": "code",
   "execution_count": 24,
   "metadata": {},
   "outputs": [
    {
     "name": "stdout",
     "output_type": "stream",
     "text": [
      "29582\n"
     ]
    },
    {
     "data": {
      "image/png": "[encoded data removed]",
      "text/plain": [
       "<Figure size 432x288 with 1 Axes>"
      ]
     },
     "metadata": {
      "needs_background": "light"
     },
     "output_type": "display_data"
    }
   ],
   "source": [
    "# Count of spam vs ham messages after text preprocessing\n",
    "\n",
    "counts = df['Spam/Ham'].value_counts()\n",
    "print(counts.sum())\n",
    "\n",
    "counts = counts.reindex(['spam', 'ham'])\n",
    "\n",
    "colors = ['red' if i == 'spam' else 'green' for i in counts.index]\n",
    "\n",
    "counts.plot(kind = 'bar', color = colors, title = 'Count of spam vs ham messages')\n",
    "plt.xlabel('Category')\n",
    "plt.ylabel('Count')\n",
    "\n",
    "for i, count in enumerate(counts):\n",
    "    plt.text(i, count, str(count), color = 'black', fontsize = 12, ha = 'center')\n",
    "\n",
    "plt.show()"
   ]
  },
  {
   "cell_type": "code",
   "execution_count": 25,
   "metadata": {},
   "outputs": [
    {
     "data": {
      "text/html": [
       "<div>\n",
       "<style scoped>\n",
       "    .dataframe tbody tr th:only-of-type {\n",
       "        vertical-align: middle;\n",
       "    }\n",
       "\n",
       "    .dataframe tbody tr th {\n",
       "        vertical-align: top;\n",
       "    }\n",
       "\n",
       "    .dataframe thead th {\n",
       "        text-align: right;\n",
       "    }\n",
       "</style>\n",
       "<table border=\"1\" class=\"dataframe\">\n",
       "  <thead>\n",
       "    <tr style=\"text-align: right;\">\n",
       "      <th></th>\n",
       "      <th>Message ID</th>\n",
       "      <th>Subject</th>\n",
       "      <th>Message</th>\n",
       "      <th>Spam/Ham</th>\n",
       "      <th>Date</th>\n",
       "      <th>Raw_message</th>\n",
       "      <th>Spam</th>\n",
       "    </tr>\n",
       "  </thead>\n",
       "  <tbody>\n",
       "    <tr>\n",
       "      <th>1</th>\n",
       "      <td>1</td>\n",
       "      <td>vastar resource inc</td>\n",
       "      <td>gary production high island large block commen...</td>\n",
       "      <td>ham</td>\n",
       "      <td>1999-12-13</td>\n",
       "      <td>gary , production from the high island larger ...</td>\n",
       "      <td>0</td>\n",
       "    </tr>\n",
       "    <tr>\n",
       "      <th>2</th>\n",
       "      <td>2</td>\n",
       "      <td>calpine daily gas nomination</td>\n",
       "      <td>calpine daily gas nomination doc</td>\n",
       "      <td>ham</td>\n",
       "      <td>1999-12-14</td>\n",
       "      <td>- calpine daily gas nomination 1 . doc</td>\n",
       "      <td>0</td>\n",
       "    </tr>\n",
       "    <tr>\n",
       "      <th>3</th>\n",
       "      <td>3</td>\n",
       "      <td>issue</td>\n",
       "      <td>fyi see note already do stella forward stella ...</td>\n",
       "      <td>ham</td>\n",
       "      <td>1999-12-14</td>\n",
       "      <td>fyi - see note below - already done .\\nstella\\...</td>\n",
       "      <td>0</td>\n",
       "    </tr>\n",
       "    <tr>\n",
       "      <th>4</th>\n",
       "      <td>4</td>\n",
       "      <td>meter nov allocation</td>\n",
       "      <td>fyi forward lauri allen hou ect pm kimberly va...</td>\n",
       "      <td>ham</td>\n",
       "      <td>1999-12-14</td>\n",
       "      <td>fyi .\\n- - - - - - - - - - - - - - - - - - - -...</td>\n",
       "      <td>0</td>\n",
       "    </tr>\n",
       "    <tr>\n",
       "      <th>5</th>\n",
       "      <td>5</td>\n",
       "      <td>mcmullen gas</td>\n",
       "      <td>jackie since inlet river plant shut last day f...</td>\n",
       "      <td>ham</td>\n",
       "      <td>1999-12-14</td>\n",
       "      <td>jackie ,\\nsince the inlet to 3 river plant is ...</td>\n",
       "      <td>0</td>\n",
       "    </tr>\n",
       "  </tbody>\n",
       "</table>\n",
       "</div>"
      ],
      "text/plain": [
       "   Message ID                       Subject  \\\n",
       "1           1           vastar resource inc   \n",
       "2           2  calpine daily gas nomination   \n",
       "3           3                         issue   \n",
       "4           4          meter nov allocation   \n",
       "5           5                  mcmullen gas   \n",
       "\n",
       "                                             Message Spam/Ham        Date  \\\n",
       "1  gary production high island large block commen...      ham  1999-12-13   \n",
       "2                   calpine daily gas nomination doc      ham  1999-12-14   \n",
       "3  fyi see note already do stella forward stella ...      ham  1999-12-14   \n",
       "4  fyi forward lauri allen hou ect pm kimberly va...      ham  1999-12-14   \n",
       "5  jackie since inlet river plant shut last day f...      ham  1999-12-14   \n",
       "\n",
       "                                         Raw_message  Spam  \n",
       "1  gary , production from the high island larger ...     0  \n",
       "2             - calpine daily gas nomination 1 . doc     0  \n",
       "3  fyi - see note below - already done .\\nstella\\...     0  \n",
       "4  fyi .\\n- - - - - - - - - - - - - - - - - - - -...     0  \n",
       "5  jackie ,\\nsince the inlet to 3 river plant is ...     0  "
      ]
     },
     "execution_count": 25,
     "metadata": {},
     "output_type": "execute_result"
    }
   ],
   "source": [
    "# Recoding the 'Spam/Ham' variable into the zero-one variable Spam\n",
    "\n",
    "df['Spam'] = df['Spam/Ham'].apply(lambda x: 1 if x == 'spam' else 0)\n",
    "df.head()"
   ]
  },
  {
   "cell_type": "code",
   "execution_count": 26,
   "metadata": {},
   "outputs": [
    {
     "name": "stdout",
     "output_type": "stream",
     "text": [
      "1    gary production high island large block commen...\n",
      "2                     calpine daily gas nomination doc\n",
      "3    fyi see note already do stella forward stella ...\n",
      "4    fyi forward lauri allen hou ect pm kimberly va...\n",
      "5    jackie since inlet river plant shut last day f...\n",
      "Name: Message, dtype: object\n",
      "1    0\n",
      "2    0\n",
      "3    0\n",
      "4    0\n",
      "5    0\n",
      "Name: Spam, dtype: int64\n"
     ]
    }
   ],
   "source": [
    "X = df['Message']\n",
    "y = df['Spam']\n",
    "\n",
    "print(X.head())\n",
    "print(y.head())"
   ]
  },
  {
   "cell_type": "code",
   "execution_count": 31,
   "metadata": {},
   "outputs": [
    {
     "name": "stdout",
     "output_type": "stream",
     "text": [
      "Accuracy: 0.9409577464788732\n",
      "Precision: 0.9168207024029574\n",
      "Recall: 0.9603097773475314\n",
      "F1 score: 0.9380614657210402\n"
     ]
    }
   ],
   "source": [
    "# Random Forest\n",
    "\n",
    "max_features = 100 # 500, 1000\n",
    "\n",
    "vectorizer = TfidfVectorizer(max_features = max_features)\n",
    "\n",
    "#df.dropna(inplace=True)\n",
    "\n",
    "X = vectorizer.fit_transform(df.Message)\n",
    "y = df.Spam\n",
    "\n",
    "X_train, X_test, y_train, y_test = train_test_split(X, y, test_size = 0.3, random_state = 1)\n",
    "\n",
    "rfc = RandomForestClassifier(random_state = 1)\n",
    "rfc.fit(X_train, y_train)\n",
    "\n",
    "y_pred = rfc.predict(X_test)\n",
    "\n",
    "\n",
    "print('Accuracy:', accuracy_score(y_test, y_pred))\n",
    "print('Precision:', precision_score(y_test, y_pred))\n",
    "print('Recall:', recall_score(y_test, y_pred))\n",
    "print('F1 score:', f1_score(y_test, y_pred))"
   ]
  },
  {
   "cell_type": "code",
   "execution_count": 36,
   "metadata": {},
   "outputs": [
    {
     "data": {
      "image/png": "[encoded data removed]",
      "text/plain": [
       "<Figure size 432x288 with 1 Axes>"
      ]
     },
     "metadata": {
      "needs_background": "light"
     },
     "output_type": "display_data"
    }
   ],
   "source": [
    "max_features_list = [100, 500, 1000]\n",
    "\n",
    "for max_features in max_features_list:\n",
    "    vectorizer = TfidfVectorizer(max_features=max_features)\n",
    "    X = vectorizer.fit_transform(df.Message)\n",
    "    \n",
    "    X_train, X_test, y_train, y_test = train_test_split(X, y, test_size=0.3, random_state=1)\n",
    "    \n",
    "    rfc = RandomForestClassifier(random_state=1)\n",
    "    rfc.fit(X_train, y_train)\n",
    "    \n",
    "    y_scores = rfc.predict_proba(X_test)[:, 1]\n",
    "    \n",
    "    fpr, tpr, thresholds = roc_curve(y_test, y_scores)\n",
    "    roc_auc = auc(fpr, tpr)\n",
    "    \n",
    "    plt.plot(fpr, tpr, label='Number of features = %d (AUC = %0.5f)' % (max_features, roc_auc))\n",
    "\n",
    "plt.plot([0, 1], [0, 1], color='navy', lw=2, linestyle='--')\n",
    "plt.xlim([0.0, 1.0])\n",
    "plt.ylim([0.0, 1.05])\n",
    "plt.xlabel('False Positive Rate')\n",
    "plt.ylabel('True Positive Rate')\n",
    "plt.legend(loc=\"lower right\")\n",
    "plt.show()"
   ]
  },
  {
   "cell_type": "code",
   "execution_count": 37,
   "metadata": {},
   "outputs": [
    {
     "name": "stdout",
     "output_type": "stream",
     "text": [
      "Accuracy (Decision Tree): 0.9097464788732395\n",
      "Precision (Decision Tree): 0.8917901670195248\n",
      "Recall (Decision Tree): 0.9174733785091965\n",
      "F1 score (Decision Tree): 0.9044494810926876\n"
     ]
    }
   ],
   "source": [
    "# Decision Tree\n",
    "\n",
    "max_features = 100 #500, 1000\n",
    "\n",
    "vectorizer = TfidfVectorizer(max_features = max_features)\n",
    "\n",
    "#df.dropna(inplace=True)\n",
    "\n",
    "X = vectorizer.fit_transform(df.Message)\n",
    "y = df.Spam\n",
    "\n",
    "X_train, X_test, y_train, y_test = train_test_split(X, y, test_size = 0.3, random_state = 1)\n",
    "\n",
    "dtc = DecisionTreeClassifier(random_state = 1)\n",
    "dtc.fit(X_train, y_train)\n",
    "\n",
    "y_pred_dtc = dtc.predict(X_test)\n",
    "\n",
    "print('Accuracy (Decision Tree):', accuracy_score(y_test, y_pred_dtc))\n",
    "print('Precision (Decision Tree):', precision_score(y_test, y_pred_dtc))\n",
    "print('Recall (Decision Tree):', recall_score(y_test, y_pred_dtc))\n",
    "print('F1 score (Decision Tree):', f1_score(y_test, y_pred_dtc))"
   ]
  },
  {
   "cell_type": "code",
   "execution_count": 38,
   "metadata": {},
   "outputs": [
    {
     "name": "stdout",
     "output_type": "stream",
     "text": [
      "127\n",
      "1034\n"
     ]
    }
   ],
   "source": [
    "print(dtc.get_depth())\n",
    "print(dtc.get_n_leaves())"
   ]
  },
  {
   "cell_type": "code",
   "execution_count": 39,
   "metadata": {},
   "outputs": [],
   "source": [
    "#Cost complexity pruning\n",
    "\n",
    "path = dtc.cost_complexity_pruning_path(X_train, y_train)\n",
    "ccp_alphas, impurities = path.ccp_alphas[::5], path.impurities[::5]"
   ]
  },
  {
   "cell_type": "code",
   "execution_count": 41,
   "metadata": {},
   "outputs": [],
   "source": [
    "# Finding an optimal value of alpha\n",
    "\n",
    "clfs = []\n",
    "\n",
    "for ccp_alpha in ccp_alphas:\n",
    "    clf = DecisionTreeClassifier(random_state=0, ccp_alpha=ccp_alpha)\n",
    "    clf.fit(X_train, y_train)\n",
    "    clfs.append(clf)"
   ]
  },
  {
   "cell_type": "code",
   "execution_count": 42,
   "metadata": {},
   "outputs": [
    {
     "data": {
      "image/png": "[encoded data removed]",
      "text/plain": [
       "<Figure size 864x576 with 1 Axes>"
      ]
     },
     "metadata": {
      "needs_background": "light"
     },
     "output_type": "display_data"
    }
   ],
   "source": [
    "test_scores = [clf.score(X_test,y_test) for clf in clfs]\n",
    "train_scores = [clf.score(X_train,y_train) for clf in clfs]\n",
    "\n",
    "fig, ax = plt.subplots(figsize=[12,8])\n",
    "ax.set_xlabel(\"Alpha\",fontsize=18)\n",
    "ax.set_ylabel(\"Accuracy\",fontsize=18)\n",
    "ax.set_title(\"Accuracy vs alpha for training and test sets\",fontsize=25)\n",
    "ax.plot(ccp_alphas, train_scores, marker='o', label=\"train\",drawstyle=\"steps-post\")\n",
    "ax.plot(ccp_alphas, test_scores, marker='o', label=\"test\",drawstyle=\"steps-post\")\n",
    "ax.legend()\n",
    "plt.show()"
   ]
  },
  {
   "cell_type": "code",
   "execution_count": 45,
   "metadata": {},
   "outputs": [
    {
     "name": "stdout",
     "output_type": "stream",
     "text": [
      "0.00013797956522638999\n"
     ]
    }
   ],
   "source": [
    "#Complexity (cost) that produce the best classifcation tree\n",
    "Best_dtc = clfs[np.argmax(test_scores)]\n",
    "best_ccp_alpha = Best_dtc.ccp_alpha\n",
    "print(best_ccp_alpha)"
   ]
  },
  {
   "cell_type": "code",
   "execution_count": 46,
   "metadata": {},
   "outputs": [
    {
     "name": "stdout",
     "output_type": "stream",
     "text": [
      "Accuracy (Decision Tree): 0.919661971830986\n",
      "Precision (Decision Tree): 0.893803271135683\n",
      "Recall (Decision Tree): 0.9390125847047435\n",
      "F1 score (Decision Tree): 0.9158503481647585\n"
     ]
    }
   ],
   "source": [
    "dtc = DecisionTreeClassifier(random_state = 0, ccp_alpha = best_ccp_alpha)\n",
    "\n",
    "dtc.fit(X_train, y_train)\n",
    "\n",
    "y_pred_dtc = dtc.predict(X_test)\n",
    "\n",
    "print('Accuracy (Decision Tree):', accuracy_score(y_test, y_pred_dtc))\n",
    "print('Precision (Decision Tree):', precision_score(y_test, y_pred_dtc))\n",
    "print('Recall (Decision Tree):', recall_score(y_test, y_pred_dtc))\n",
    "print('F1 score (Decision Tree):', f1_score(y_test, y_pred_dtc))"
   ]
  },
  {
   "cell_type": "code",
   "execution_count": 48,
   "metadata": {},
   "outputs": [
    {
     "name": "stdout",
     "output_type": "stream",
     "text": [
      "53\n",
      "284\n"
     ]
    }
   ],
   "source": [
    "# Much smaller tree after pruning\n",
    "\n",
    "print(dtc.get_depth())\n",
    "print(dtc.get_n_leaves())"
   ]
  },
  {
   "cell_type": "code",
   "execution_count": 50,
   "metadata": {},
   "outputs": [
    {
     "data": {
      "image/png": "[encoded data removed]",
      "text/plain": [
       "<Figure size 432x288 with 1 Axes>"
      ]
     },
     "metadata": {
      "needs_background": "light"
     },
     "output_type": "display_data"
    }
   ],
   "source": [
    "max_features_list = [100, 500, 1000]\n",
    "\n",
    "for max_features in max_features_list:\n",
    "    vectorizer = TfidfVectorizer(max_features=max_features)\n",
    "    X = vectorizer.fit_transform(df.Message)\n",
    "    \n",
    "    X_train, X_test, y_train, y_test = train_test_split(X, y, test_size=0.3, random_state=1)\n",
    "    \n",
    "    dtc = DecisionTreeClassifier(random_state = 1, ccp_alpha = best_ccp_alpha)\n",
    "    dtc.fit(X_train, y_train)\n",
    "    \n",
    "    y_scores = dtc.predict_proba(X_test)[:, 1]\n",
    "    \n",
    "    fpr, tpr, thresholds = roc_curve(y_test, y_scores)\n",
    "    roc_auc = auc(fpr, tpr)\n",
    "    \n",
    "    plt.plot(fpr, tpr, label='Number of features = %d (AUC = %0.5f)' % (max_features, roc_auc))\n",
    "\n",
    "plt.plot([0, 1], [0, 1], color='navy', lw=2, linestyle='--')\n",
    "plt.xlim([0.0, 1.0])\n",
    "plt.ylim([0.0, 1.05])\n",
    "plt.xlabel('False Positive Rate')\n",
    "plt.ylabel('True Positive Rate')\n",
    "plt.legend(loc=\"lower right\")\n",
    "plt.show()"
   ]
  },
  {
   "cell_type": "code",
   "execution_count": 51,
   "metadata": {},
   "outputs": [
    {
     "name": "stdout",
     "output_type": "stream",
     "text": [
      "Accuracy (Multinomial Naive Bayes): 0.8860845070422535\n",
      "Precision (Multinomial Naive Bayes): 0.885403803408249\n",
      "Recall (Multinomial Naive Bayes): 0.8676185866408519\n",
      "F1 score (Multinomial Naive Bayes): 0.8764209754308765\n"
     ]
    }
   ],
   "source": [
    "# Naive Bayes\n",
    "\n",
    "max_features = 100 #500, 1000\n",
    "\n",
    "vectorizer = TfidfVectorizer(max_features = max_features)\n",
    "\n",
    "df.dropna(inplace=True)\n",
    "\n",
    "X = vectorizer.fit_transform(df.Message)\n",
    "y = df.Spam\n",
    "\n",
    "X_train, X_test, y_train, y_test = train_test_split(X, y, test_size = 0.3, random_state = 1)\n",
    "\n",
    "\n",
    "mnbc = MultinomialNB()\n",
    "mnbc.fit(X_train, y_train)\n",
    "\n",
    "y_pred_mnb = mnbc.predict(X_test)\n",
    "\n",
    "print('Accuracy (Multinomial Naive Bayes):', accuracy_score(y_test, y_pred_mnb))\n",
    "print('Precision (Multinomial Naive Bayes):', precision_score(y_test, y_pred_mnb))\n",
    "print('Recall (Multinomial Naive Bayes):', recall_score(y_test, y_pred_mnb))\n",
    "print('F1 score (Multinomial Naive Bayes):', f1_score(y_test, y_pred_mnb))"
   ]
  },
  {
   "cell_type": "code",
   "execution_count": 52,
   "metadata": {},
   "outputs": [
    {
     "data": {
      "image/png": "[encoded data removed]",
      "text/plain": [
       "<Figure size 432x288 with 1 Axes>"
      ]
     },
     "metadata": {
      "needs_background": "light"
     },
     "output_type": "display_data"
    }
   ],
   "source": [
    "max_features_list = [100, 500, 1000]\n",
    "\n",
    "for max_features in max_features_list:\n",
    "    vectorizer = TfidfVectorizer(max_features=max_features)\n",
    "    X = vectorizer.fit_transform(df.Message)\n",
    "    \n",
    "    X_train, X_test, y_train, y_test = train_test_split(X, y, test_size=0.3, random_state=1)\n",
    "    \n",
    "    mnb = MultinomialNB()\n",
    "    mnb.fit(X_train, y_train)\n",
    "    \n",
    "    y_scores = mnb.predict_proba(X_test)[:, 1]\n",
    "    \n",
    "    fpr, tpr, thresholds = roc_curve(y_test, y_scores)\n",
    "    roc_auc = auc(fpr, tpr)\n",
    "    \n",
    "    plt.plot(fpr, tpr, label='Number of features = %d (AUC = %0.5f)' % (max_features, roc_auc))\n",
    "\n",
    "plt.plot([0, 1], [0, 1], color='navy', lw=2, linestyle='--')\n",
    "plt.xlim([0.0, 1.0])\n",
    "plt.ylim([0.0, 1.05])\n",
    "plt.xlabel('False Positive Rate')\n",
    "plt.ylabel('True Positive Rate')\n",
    "plt.legend(loc=\"lower right\")\n",
    "plt.show()"
   ]
  },
  {
   "cell_type": "code",
   "execution_count": 58,
   "metadata": {},
   "outputs": [
    {
     "name": "stderr",
     "output_type": "stream",
     "text": [
      "c:\\Users\\rkali\\Anaconda3\\lib\\site-packages\\ipykernel_launcher.py:19: UserWarning: \n",
      "\n",
      "`distplot` is a deprecated function and will be removed in seaborn v0.14.0.\n",
      "\n",
      "Please adapt your code to use either `displot` (a figure-level function with\n",
      "similar flexibility) or `histplot` (an axes-level function for histograms).\n",
      "\n",
      "For a guide to updating your code to use the new functions, please see\n",
      "https://gist.github.com/mwaskom/de44147ed2974457ad6372750bbe5751\n",
      "\n",
      "c:\\Users\\rkali\\Anaconda3\\lib\\site-packages\\ipykernel_launcher.py:26: UserWarning: \n",
      "\n",
      "`distplot` is a deprecated function and will be removed in seaborn v0.14.0.\n",
      "\n",
      "Please adapt your code to use either `displot` (a figure-level function with\n",
      "similar flexibility) or `histplot` (an axes-level function for histograms).\n",
      "\n",
      "For a guide to updating your code to use the new functions, please see\n",
      "https://gist.github.com/mwaskom/de44147ed2974457ad6372750bbe5751\n",
      "\n"
     ]
    },
    {
     "data": {
      "image/png": "[encoded data removed]",
      "text/plain": [
       "<Figure size 720x864 with 2 Axes>"
      ]
     },
     "metadata": {
      "needs_background": "light"
     },
     "output_type": "display_data"
    }
   ],
   "source": [
    "# Message length analysis\n",
    "\n",
    "vectorizer = TfidfVectorizer(max_features = 100)\n",
    "\n",
    "spam_messages = df[df['Spam'] == 1]['Message'].dropna()\n",
    "ham_messages = df[df['Spam'] == 0]['Message'].dropna()\n",
    "\n",
    "spam_message_lengths = spam_messages.apply(lambda x: len(x.split()))\n",
    "ham_message_lengths = ham_messages.apply(lambda x: len(x.split()))\n",
    "\n",
    "\n",
    "spam_message_lengths = spam_message_lengths[spam_message_lengths < quantile(spam_message_lengths, 0.99)]\n",
    "ham_message_lengths = ham_message_lengths[ham_message_lengths < quantile(ham_message_lengths, 0.99)]\n",
    "\n",
    "fig, axes = plt.subplots(2, 1, figsize=(10, 12))\n",
    "\n",
    "# Histogram for spam messages\n",
    "sns.distplot(spam_message_lengths, color='red', kde=True, kde_kws={'color': 'black'}, hist_kws={'edgecolor': 'grey', 'alpha': 0.7}, bins=200, ax=axes[0])\n",
    "axes[0].set_xlabel('Długość wiadomości (w słowach)')\n",
    "axes[0].set_ylabel('Gęstość prawdopodobieństwa')\n",
    "axes[0].set_xlim(0, quantile(spam_message_lengths, 0.99))  \n",
    "\n",
    "# Histogram for ham messages\n",
    "sns.distplot(ham_message_lengths, color='green', kde=True, kde_kws={'color': 'black'}, hist_kws={'edgecolor': 'grey', 'alpha': 0.7}, bins=200, ax=axes[1])\n",
    "axes[1].set_xlabel('Długość wiadomości (w słowach)')\n",
    "axes[1].set_ylabel('Gęstość prawdopodobieństwa')\n",
    "axes[1].set_xlim(0, quantile(ham_message_lengths, 0.99))  \n",
    "\n",
    "plt.tight_layout()\n",
    "plt.show()"
   ]
  },
  {
   "cell_type": "code",
   "execution_count": 64,
   "metadata": {},
   "outputs": [
    {
     "name": "stdout",
     "output_type": "stream",
     "text": [
      "T-Test:\n",
      "T-statistic: 1.1506570785555807\n",
      "P-value: 0.2498827365047377\n",
      "U-Mann-Whitney Test:\n",
      "U-statistic: 105995853.5\n",
      "P-value: 0.3178999919821355\n"
     ]
    }
   ],
   "source": [
    "# Perform t-test\n",
    "t_statistic, p_value_ttest = stats.ttest_ind(spam_message_lengths, ham_message_lengths)\n",
    "print(\"T-Test:\")\n",
    "print(\"T-statistic:\", t_statistic)\n",
    "print(\"P-value:\", p_value_ttest) # we do not reject the null hypothesis\n",
    "\n",
    "# Perform U-test\n",
    "u_statistic, p_value_uwtest = stats.mannwhitneyu(spam_message_lengths, ham_message_lengths, alternative='two-sided')\n",
    "print(\"U-Mann-Whitney Test:\")\n",
    "print(\"U-statistic:\", u_statistic)\n",
    "print(\"P-value:\", p_value_uwtest) # we do not reject the null hypothesis"
   ]
  },
  {
   "cell_type": "code",
   "execution_count": 65,
   "metadata": {},
   "outputs": [
    {
     "name": "stderr",
     "output_type": "stream",
     "text": [
      "c:\\Users\\rkali\\Anaconda3\\lib\\site-packages\\sklearn\\utils\\deprecation.py:87: FutureWarning: Function get_feature_names is deprecated; get_feature_names is deprecated in 1.0 and will be removed in 1.2. Please use get_feature_names_out instead.\n",
      "  warnings.warn(msg, category=FutureWarning)\n"
     ]
    },
    {
     "data": {
      "image/png": "[encoded data removed]",
      "text/plain": [
       "<Figure size 864x432 with 1 Axes>"
      ]
     },
     "metadata": {
      "needs_background": "light"
     },
     "output_type": "display_data"
    },
    {
     "data": {
      "image/png": "[encoded data removed]",
      "text/plain": [
       "<Figure size 864x432 with 1 Axes>"
      ]
     },
     "metadata": {
      "needs_background": "light"
     },
     "output_type": "display_data"
    }
   ],
   "source": [
    "# TF-IDF analysis \n",
    "\n",
    "vectorizer = TfidfVectorizer(max_features=10)\n",
    "\n",
    "spam_messages = df[df['Spam'] == 1 ]['Message'].dropna()\n",
    "ham_messages = df[df['Spam'] == 0]['Message'].dropna()\n",
    "\n",
    "tfidf_spam = vectorizer.fit_transform(spam_messages)\n",
    "tfidf_ham = vectorizer.fit_transform(ham_messages)\n",
    "\n",
    "# Get the feature names (words in the vocabulary)\n",
    "feature_names = vectorizer.get_feature_names()\n",
    "\n",
    "# Calculate the TF-IDF values\n",
    "tfidf_spam_values = tfidf_spam.toarray().sum(axis=0)\n",
    "tfidf_ham_values = tfidf_ham.toarray().sum(axis=0)\n",
    "\n",
    "top_n = 10\n",
    "\n",
    "# Bar chart for spam messages\n",
    "spam_tfidf_freq = pd.DataFrame(tfidf_spam_values, index=feature_names, columns=['TF-IDF']).sort_values(by='TF-IDF', ascending=False)\n",
    "plt.figure(figsize=(12, 6))\n",
    "sns.barplot(x=spam_tfidf_freq['TF-IDF'][:top_n].values, y=spam_tfidf_freq.index[:top_n], palette='Reds_r')\n",
    "plt.title('{} largest TF-IDF values in spam email messages'.format(top_n))\n",
    "plt.xlabel('TF-IDF')\n",
    "plt.ylabel('Words')\n",
    "plt.show()\n",
    "\n",
    "# Bar chart for ham messages\n",
    "ham_tfidf_freq = pd.DataFrame(tfidf_ham_values, index=feature_names, columns=['TF-IDF']).sort_values(by='TF-IDF', ascending=False)\n",
    "plt.figure(figsize=(12, 6))\n",
    "sns.barplot(x=ham_tfidf_freq['TF-IDF'][:top_n].values, y=ham_tfidf_freq.index[:top_n], palette='Greens_r')\n",
    "plt.title('{} largest TF-IDF values in \"legitimate\" email messages'.format(top_n))\n",
    "plt.xlabel('TF-IDF')\n",
    "plt.ylabel('Words')\n",
    "plt.show()"
   ]
  }
 ],
 "metadata": {
  "kernelspec": {
   "display_name": "base",
   "language": "python",
   "name": "python3"
  },
  "language_info": {
   "codemirror_mode": {
    "name": "ipython",
    "version": 3
   },
   "file_extension": ".py",
   "mimetype": "text/x-python",
   "name": "python",
   "nbconvert_exporter": "python",
   "pygments_lexer": "ipython3",
   "version": "3.7.4"
  },
  "orig_nbformat": 4,
  "vscode": {
   "interpreter": {
    "hash": "fd6290d17cb4c41de32684dd8c1f25a0e891629dc47736969f6cb26178a53b4c"
   }
  }
 },
 "nbformat": 4,
 "nbformat_minor": 2
}
